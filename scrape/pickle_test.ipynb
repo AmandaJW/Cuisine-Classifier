{
 "cells": [
  {
   "cell_type": "code",
   "execution_count": 1,
   "metadata": {},
   "outputs": [],
   "source": [
    "import pandas as pd"
   ]
  },
  {
   "cell_type": "code",
   "execution_count": 2,
   "metadata": {},
   "outputs": [],
   "source": [
    "df = pd.read_pickle('data/posts.pkl')"
   ]
  },
  {
   "cell_type": "code",
   "execution_count": 3,
   "metadata": {},
   "outputs": [
    {
     "data": {
      "text/plain": [
       "(23320, 1)"
      ]
     },
     "execution_count": 3,
     "metadata": {},
     "output_type": "execute_result"
    }
   ],
   "source": [
    "df.shape"
   ]
  },
  {
   "cell_type": "code",
   "execution_count": 6,
   "metadata": {},
   "outputs": [
    {
     "data": {
      "text/html": [
       "<div>\n",
       "<style scoped>\n",
       "    .dataframe tbody tr th:only-of-type {\n",
       "        vertical-align: middle;\n",
       "    }\n",
       "\n",
       "    .dataframe tbody tr th {\n",
       "        vertical-align: top;\n",
       "    }\n",
       "\n",
       "    .dataframe thead th {\n",
       "        text-align: right;\n",
       "    }\n",
       "</style>\n",
       "<table border=\"1\" class=\"dataframe\">\n",
       "  <thead>\n",
       "    <tr style=\"text-align: right;\">\n",
       "      <th></th>\n",
       "      <th>0</th>\n",
       "    </tr>\n",
       "  </thead>\n",
       "  <tbody>\n",
       "    <tr>\n",
       "      <th>2514</th>\n",
       "      <td>First time sous vide ribeye. Turned out great!</td>\n",
       "    </tr>\n",
       "    <tr>\n",
       "      <th>22102</th>\n",
       "      <td>[Homemade] Karele ka Bharta-Unique Style/Bitte...</td>\n",
       "    </tr>\n",
       "    <tr>\n",
       "      <th>11823</th>\n",
       "      <td>Made homemade spicy shrimp mac and cheese.</td>\n",
       "    </tr>\n",
       "    <tr>\n",
       "      <th>7969</th>\n",
       "      <td>BBQ Duck Salted Caramels [OC]</td>\n",
       "    </tr>\n",
       "    <tr>\n",
       "      <th>7730</th>\n",
       "      <td>Hmmmm- Macaroni</td>\n",
       "    </tr>\n",
       "    <tr>\n",
       "      <th>10107</th>\n",
       "      <td>Drafts in park city Utah: hamburger topped wit...</td>\n",
       "    </tr>\n",
       "    <tr>\n",
       "      <th>22588</th>\n",
       "      <td>Send a teen France get pics of food I'll never...</td>\n",
       "    </tr>\n",
       "    <tr>\n",
       "      <th>16491</th>\n",
       "      <td>Grilled up some nice steaks last night with Ch...</td>\n",
       "    </tr>\n",
       "    <tr>\n",
       "      <th>18082</th>\n",
       "      <td>Spicy Crab claws with grilled shrimp🤤</td>\n",
       "    </tr>\n",
       "    <tr>\n",
       "      <th>18576</th>\n",
       "      <td>Confit canard, with cherry sauce and dauphinoi...</td>\n",
       "    </tr>\n",
       "    <tr>\n",
       "      <th>3696</th>\n",
       "      <td>[I made] southwestern corned beef hash and egg...</td>\n",
       "    </tr>\n",
       "    <tr>\n",
       "      <th>18243</th>\n",
       "      <td>We know how to snack</td>\n",
       "    </tr>\n",
       "    <tr>\n",
       "      <th>17305</th>\n",
       "      <td>[OC] Eggs Huntington</td>\n",
       "    </tr>\n",
       "    <tr>\n",
       "      <th>11906</th>\n",
       "      <td>I don't know what it is but I made it with 5 i...</td>\n",
       "    </tr>\n",
       "    <tr>\n",
       "      <th>11407</th>\n",
       "      <td>First Post here, hope you like my home made bu...</td>\n",
       "    </tr>\n",
       "    <tr>\n",
       "      <th>19366</th>\n",
       "      <td>Blessed Burgers 😍</td>\n",
       "    </tr>\n",
       "    <tr>\n",
       "      <th>6882</th>\n",
       "      <td>Taiwanese Beef Noodle Soup [OC] [3000x4000].</td>\n",
       "    </tr>\n",
       "    <tr>\n",
       "      <th>16548</th>\n",
       "      <td>Chocolate Chip Cookie cupcake</td>\n",
       "    </tr>\n",
       "    <tr>\n",
       "      <th>3951</th>\n",
       "      <td>Fladen mit Hackfleisch – Leziz Kıymalı Pideler...</td>\n",
       "    </tr>\n",
       "    <tr>\n",
       "      <th>20973</th>\n",
       "      <td>[i made] white bread rolled w/ creme cheese &amp; ...</td>\n",
       "    </tr>\n",
       "  </tbody>\n",
       "</table>\n",
       "</div>"
      ],
      "text/plain": [
       "                                                       0\n",
       "2514      First time sous vide ribeye. Turned out great!\n",
       "22102  [Homemade] Karele ka Bharta-Unique Style/Bitte...\n",
       "11823         Made homemade spicy shrimp mac and cheese.\n",
       "7969                       BBQ Duck Salted Caramels [OC]\n",
       "7730                                     Hmmmm- Macaroni\n",
       "10107  Drafts in park city Utah: hamburger topped wit...\n",
       "22588  Send a teen France get pics of food I'll never...\n",
       "16491  Grilled up some nice steaks last night with Ch...\n",
       "18082              Spicy Crab claws with grilled shrimp🤤\n",
       "18576  Confit canard, with cherry sauce and dauphinoi...\n",
       "3696   [I made] southwestern corned beef hash and egg...\n",
       "18243                               We know how to snack\n",
       "17305                               [OC] Eggs Huntington\n",
       "11906  I don't know what it is but I made it with 5 i...\n",
       "11407  First Post here, hope you like my home made bu...\n",
       "19366                                  Blessed Burgers 😍\n",
       "6882        Taiwanese Beef Noodle Soup [OC] [3000x4000].\n",
       "16548                      Chocolate Chip Cookie cupcake\n",
       "3951   Fladen mit Hackfleisch – Leziz Kıymalı Pideler...\n",
       "20973  [i made] white bread rolled w/ creme cheese & ..."
      ]
     },
     "execution_count": 6,
     "metadata": {},
     "output_type": "execute_result"
    }
   ],
   "source": [
    "df.sample(20)"
   ]
  },
  {
   "cell_type": "code",
   "execution_count": null,
   "metadata": {},
   "outputs": [],
   "source": []
  }
 ],
 "metadata": {
  "kernelspec": {
   "display_name": "Python 3",
   "language": "python",
   "name": "python3"
  },
  "language_info": {
   "codemirror_mode": {
    "name": "ipython",
    "version": 3
   },
   "file_extension": ".py",
   "mimetype": "text/x-python",
   "name": "python",
   "nbconvert_exporter": "python",
   "pygments_lexer": "ipython3",
   "version": "3.7.2"
  }
 },
 "nbformat": 4,
 "nbformat_minor": 2
}
